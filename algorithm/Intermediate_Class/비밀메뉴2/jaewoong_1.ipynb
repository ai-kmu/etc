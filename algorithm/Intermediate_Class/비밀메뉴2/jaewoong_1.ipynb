{
 "cells": [
  {
   "cell_type": "code",
   "execution_count": 2,
   "id": "326a49eb",
   "metadata": {},
   "outputs": [
    {
     "name": "stdout",
     "output_type": "stream",
     "text": [
      "3 4 4\n",
      "2 3 1\n",
      "3 1 4 2\n",
      "2\n"
     ]
    }
   ],
   "source": [
    "NMK = input('') #N길이,M길이,K범위\n",
    "NMK_arr = NMK.split() #split쓰면 자동으로 배열에 저장\n",
    "\n",
    "\n",
    "N_num = NMK_arr[0] #N길이\n",
    "M_num = NMK_arr[1] #M길이\n",
    "\n",
    "\n",
    "#입력예제 2~3째줄, 입력 배열 생성\n",
    "N_arr = []\n",
    "M_arr = []\n",
    "N = input('')\n",
    "N_arr = N.split()\n",
    "M = input('')\n",
    "M_arr = M.split()\n",
    "\n",
    "a=[]\n",
    "b=[]\n",
    "\n",
    "#이중 for문을 통해 부분집합을 생성한다.\n",
    "\n",
    "for j in range(len(N_arr)):\n",
    "    for i in range(len(N_arr)):\n",
    "        if j>i:\n",
    "            continue\n",
    "        else:\n",
    "            a.append(N_arr[j:i+1])\n",
    "        \n",
    "for j in range(len(M_arr)):\n",
    "    for i in range(len(M_arr)):\n",
    "        if j>i:\n",
    "            continue\n",
    "        else:\n",
    "            b.append(M_arr[j:i+1])\n",
    "        \n",
    "        \n",
    "        \n",
    "#print(a)\n",
    "#print(b)\n",
    "    \n",
    "len_com = 0\n",
    "\n",
    "#두 집합의 부분집합의 교집합 중 가장 길이가 긴 집합의 길이를 출력한다.\n",
    "for i in range(len(a)):\n",
    "    if a[i] in b:\n",
    "        if len_com < len(a[i]):\n",
    "            len_com = len(a[i])\n",
    "\n",
    "print(len_com)\n",
    "    "
   ]
  },
  {
   "cell_type": "code",
   "execution_count": null,
   "id": "97cb2a1a",
   "metadata": {},
   "outputs": [],
   "source": []
  }
 ],
 "metadata": {
  "kernelspec": {
   "display_name": "Python 3 (ipykernel)",
   "language": "python",
   "name": "python3"
  },
  "language_info": {
   "codemirror_mode": {
    "name": "ipython",
    "version": 3
   },
   "file_extension": ".py",
   "mimetype": "text/x-python",
   "name": "python",
   "nbconvert_exporter": "python",
   "pygments_lexer": "ipython3",
   "version": "3.9.12"
  }
 },
 "nbformat": 4,
 "nbformat_minor": 5
}
