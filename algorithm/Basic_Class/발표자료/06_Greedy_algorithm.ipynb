{
 "cells": [
  {
   "cell_type": "markdown",
   "metadata": {},
   "source": [
    "# 그리디 알고리즘"
   ]
  },
  {
   "cell_type": "markdown",
   "metadata": {},
   "source": [
    "## 1. 그리디 알고리즘"
   ]
  },
  {
   "cell_type": "markdown",
   "metadata": {},
   "source": [
    "### 그리디 알고리즘이란?"
   ]
  },
  {
   "cell_type": "markdown",
   "metadata": {},
   "source": [
    "- 그리디 알고리즘은 단순하지만 강력한 문제 해결 방법으로, 단어 그대로 번역하여 '탐욕법'으로 소개되기도 한다.\n",
    "- 이름에서 알 수 있듯, 어떠한 문제가 있을 때 단순하게, 탐욕적으로 문제를 푸는 알고리즘이다.\n",
    "- 여기서 탐욕적이라는 말은, '현재 상황에서 지금 당장 좋은 것만 고르는 방법'을 의미한다.\n",
    "- 그리디 알고리즘을 이용하면 매 순간 가장 좋아보이는 것을 선택하며, 현재의 선택이 나중에 미칠 영향에 대해서는 고려하지 않는다.\n",
    "- 즉, \"매 선택에서 지금 이 순간 최적인 답을 선택하여 적합한 결과를 도출하자\"라는 모토를 가진 알고리즘이다.\n",
    "- 단, 그리디 알고리즘을 사용할 때 매 선택이 그 순간에 대해서는 최적이지만 문제 전체에 대해서 봤을 때에는 최적이라는 보장이 없다는 것을 명심해야 한다."
   ]
  },
  {
   "cell_type": "markdown",
   "metadata": {},
   "source": [
    "![25261E40534E7ED712](https://user-images.githubusercontent.com/46258521/189790135-da140487-b86b-4e65-af5f-3d537c160ac5.jpeg)\n"
   ]
  },
  {
   "cell_type": "markdown",
   "metadata": {},
   "source": [
    "- 그리디 알고리즘을 사용할 수 없는 경우를 마시멜로 실험에 비유한다면 이해가 쉽다.\n",
    "- 마시멜로 실험에서 그리디 알고리즘을 적용하는 것은, 지금 눈 앞에 있는 1개의 마시멜로를 먹는 것이다.\n",
    "- 하지만 이 방법을 사용하는 것은, 기다렸다가 2개의 마시멜로를 먹는다는 최적해를 보장하지 못한다.\n",
    "- 즉, 이 문제는 그리디 알고리즘으로 해결할 수 없다."
   ]
  },
  {
   "cell_type": "markdown",
   "metadata": {},
   "source": [
    "![images_pistachio02_post_0a8f7ec7-5c79-4fd6-a305-0d1cd637396d_탐욕(Greedy) 알고리즘](https://user-images.githubusercontent.com/46258521/189792464-88ab4192-7317-46a5-a211-660120157e43.png)"
   ]
  },
  {
   "cell_type": "markdown",
   "metadata": {},
   "source": [
    "- 다음과 같은 문제도 그리디 알고리즘으로 풀 수 없다.\n",
    "- 예를 들어 root 0에서 밑으로 내려가면서 선택한 node의 수를 더하면서, 가장 큰 수를 만드는 문제를 푼다고 생각해보자.\n",
    "- 여기서의 최적해는 0 - 3 - 100으로 선택하는 것이다.\n",
    "- 반면 그리디 알고리즘을 적용한다면 0 - 10 - 8을 선택하게 되어, 최적해를 구할 수 없게 된다.\n",
    "- 이는 tree의 노드들이 어떻게 연결되었는지에 따라 특정 선택이 다음 선택에 영향을 주기 때문이며, 뒤에서 설명하겠지만 '탐욕적 선택 속성'을 만족하지 못했기 때문이다."
   ]
  },
  {
   "cell_type": "markdown",
   "metadata": {},
   "source": [
    "### 그리디 알고리즘의 조건"
   ]
  },
  {
   "cell_type": "markdown",
   "metadata": {},
   "source": [
    "- 탐욕 알고리즘이 잘 작동하는 문제는 대부분 탐욕스런 선택 조건(greedy choice property)과 최적 부분 구조 조건(optimal substructure)이라는 두 가지 조건이 만족된다.\n",
    "- 탐욕스런 선택 조건은 가장 좋아보이는 것을 선택했을 때, 앞의 선택이 이후의 선택에 영향을 주지 않는다는 것이며, 최적 부분 구조 조건은 문제에 대한 최적해가 부분문제에 대해서도 역시 최적해라는 것이다.\n",
    "1. 탐욕적 선택 속성(Greedy Choice Property) : 어떤 선택을 하든 특정 기준에 따라 가장 좋아보이는 것을 선택하며, 앞의 선택이 이후의 선택에 영향을 주지 않는다.\n",
    "2. 최적 부분 구조(Optimal Substructure) : 문제에 대한 최종 해결 방법은 부분 문제에 대한 최적 문제 해결 방법으로 구성된다.\n",
    "- 이러한 조건이 성립하지 않는 경우에는 탐욕 알고리즘은 최적해를 구하지 못한다.\n",
    "- 하지만, 이러한 경우에도 탐욕 알고리즘은 근사 알고리즘으로 사용이 가능할 수 있으며, 대부분의 경우 계산 속도가 빠르기 때문에 실용적으로 사용할 수 있다."
   ]
  },
  {
   "cell_type": "markdown",
   "metadata": {},
   "source": [
    "![f6f9d5e08e9beb596a8d52cdded15bbf5cf921aad3cd579360d23c8a578cd638099c8ce0ae12a11b63b85e68acc8fca2700172d5a45a9d87da2e006996865fe905cf2b6ee736629fdc0d6a237663b724916bfe9ccc371b033dfff33a657c252682b6635b1f9b8759c574762d4279e6a9](https://user-images.githubusercontent.com/46258521/189792767-11a5751e-a5ac-4a4e-971f-5c935b8f9585.png)"
   ]
  },
  {
   "cell_type": "markdown",
   "metadata": {},
   "source": [
    "- 탐욕적 선택 속성을 좀 더 살펴보면 다음과 같이 설명할 수 있다.\n",
    "- 서울에서 대구를 가는 경로든, 대구에서 부산을 가는 경로든, 항상 주행경로를 최소화하는 선택을 한다.\n",
    "- 이때, 서울에서 대구까지 가는 최단경로를 구하는 문제에서 어떤 선택을 하든, 대구에서 부산까지 가는 최단경로를 구하는 문제의 선택에 전혀 영향을 주지 않는다.\n",
    "- 즉, 이 경우 이전 단계에서 어떤 선택을 하든, 이후 단계에서의 선택에 영향이나 제한을 주지 않는다는 것을 알 수 있다.\n",
    "- 따라서, 이 문제는 탐욕적 선택 속성을 만족한다고 볼 수 있다."
   ]
  },
  {
   "cell_type": "markdown",
   "metadata": {},
   "source": [
    "- 또한 최적 부분 구조를 좀 더 살펴보면 다음과 같이 설명할 수 있다.\n",
    "- 서울에서 대구를 거쳐 부산까지 가는 최단 경로 R(서울, 부산)을 찾는다고 가정해보자.\n",
    "- 그림에서 보듯이, 서울에서 대구까지 가는 경로는 3가지가 있으며, 부산까지도 마찬가지로 3가지 경로가 있다.\n",
    "- 여기서 R(서울, 부산)은 200km + 80km = 280km이다.\n",
    "- 이 경로는 서울에서 대구까지 가는 최단 경로 R(서울, 대구) 200km와 대구에서 부산까지 가는 최단 경로 R(대구, 부산) 80km로 구성된다.\n",
    "- R(서울, 부산)은 각각의 부분 문제인 R(서울, 대구) + R(대구, 부산)이라고 볼 수 있다.\n",
    "- 따라서 문제의 최적 해결 방법은 부분 문제에 대한 최적 해결 방법으로 구성된다."
   ]
  },
  {
   "cell_type": "markdown",
   "metadata": {},
   "source": [
    "#### 매트로이드"
   ]
  },
  {
   "cell_type": "markdown",
   "metadata": {},
   "source": [
    "- 어떤 특별한 구조가 있는 문제에 대해서는 탐욕 알고리즘이 언제나 최적해를 찾아낼 수 있다.\n",
    "- 이 구조를 매트로이드라 한다.\n",
    "- 매트로이드는 모든 문제에서 나타나는 것은 아니나, 여러 곳에서 발견되기 때문에 탐욕 알고리즘의 활용도를 높여 준다."
   ]
  },
  {
   "cell_type": "markdown",
   "metadata": {},
   "source": [
    "## 2. 탐욕 알고리즘 예"
   ]
  },
  {
   "cell_type": "markdown",
   "metadata": {},
   "source": [
    "### 문제1: 동전 문제\n",
    "  - 지불해야 하는 값이 4720원 일 때 10원 50원 100원, 500원 동전으로 동전의 수가 가장 적게 지불하시오.\n",
    "    - 가장 큰 동전부터 최대한 지불해야 하는 값을 채우는 방식으로 구현 가능\n",
    "    - 탐욕 알고리즘으로 매순간 최적이라고 생각되는 경우를 선택하면 됨"
   ]
  },
  {
   "cell_type": "markdown",
   "metadata": {},
   "source": [
    "#### 그리디 알고리즘 조건\n",
    "  - 탐욕적 선택 속성의 경우:\n",
    "    - 어떤 동전을 선택하여 거스름돈을 주든지간에 다음 선택에 영향이나 제한을 주지 않는다.\n",
    "    - 또한 거스름돈 N원을 표현할 때, N보다 작은 가장 큰 동전을 최대로 사용하여 문제를 풀 수 있다..\n",
    "    - 이가 성립할 수 있는 이유는, 거슬러주는 화폐의 큰 단위가 작은 단위의 배수 형태이기 때문이다.\n",
    "    - 예를 들어, 500원짜리 1개는 100원짜리 5개로 표현될 수 있으며, 50원짜리 10개, 10원짜리 50개로 표현이 가능하다.\n",
    "    - 따라서 거슬러주는 금액이 500원보다 큰 경우, 반드시 500원을 사용하는 것이 좋다.\n",
    "    - 왜냐하면 500원을 표현할 때 다른 동전으로는 절대 적은 개수로 표한할 수 없기 때문이다.\n",
    "    - 따라서 탐욕적 선택 속성을 만족한다.\n",
    "  - 최적 부분 구조의 경우:\n",
    "    - 이 문제의 경우 500원으로 먼저 거슬러주고, 그 다음 100원, 50원, 10원 순으로 지불하는 값을 채우게 된다.\n",
    "    - 따라서 500원으로 거슬러줄 수 있는 최대의 동전 개수와 100원, 50원, 10으로 거슬러줄 수 있는 최대의 동전 개수를 더하여 문제를 풀 수 있다."
   ]
  },
  {
   "cell_type": "code",
   "execution_count": 16,
   "metadata": {},
   "outputs": [
    {
     "name": "stdout",
     "output_type": "stream",
     "text": [
      "[10, 100, 50, 500]\n",
      "[500, 100, 50, 10]\n"
     ]
    }
   ],
   "source": [
    "coin_list = [10, 100, 50, 500]\n",
    "print (coin_list)\n",
    "coin_list.sort(reverse=True)\n",
    "print (coin_list)"
   ]
  },
  {
   "cell_type": "code",
   "execution_count": 17,
   "metadata": {},
   "outputs": [],
   "source": [
    "coin_list = [500, 100, 50, 10]\n",
    "\n",
    "def min_coin_count(value, coin_list):\n",
    "    total_coin_count = 0\n",
    "    details = list()\n",
    "    coin_list.sort(reverse=True)\n",
    "    for coin in coin_list:\n",
    "        coin_num = value // coin\n",
    "        total_coin_count += coin_num\n",
    "        value -= coin_num * coin\n",
    "        details.append([coin, coin_num])\n",
    "    return total_coin_count, details"
   ]
  },
  {
   "cell_type": "code",
   "execution_count": 18,
   "metadata": {},
   "outputs": [
    {
     "data": {
      "text/plain": [
       "(13, [[500, 9], [100, 2], [50, 0], [10, 2]])"
      ]
     },
     "execution_count": 18,
     "metadata": {},
     "output_type": "execute_result"
    }
   ],
   "source": [
    "min_coin_count(4720, coin_list)"
   ]
  },
  {
   "cell_type": "markdown",
   "metadata": {},
   "source": [
    "### 문제2: 부분 배낭 문제 (Fractional Knapsack Problem)\n",
    "  - 무게 제한이 k인 배낭에 최대 가치를 가지도록 물건을 넣는 문제\n",
    "    - 각 물건은 무게(w)와 가치(v)로 표현될 수 있음\n",
    "    - 물건은 쪼갤 수 있으므로 물건의 일부분이 배낭에 넣어질 수 있음, 그래서 Fractional Knapsack Problem 으로 부름\n",
    "      - Fractional Knapsack Problem 의 반대로 물건을 쪼개서 넣을 수 없는 배낭 문제도 존재함 (0/1 Knapsack Problem 으로 부름)\n",
    "    <img src=\"https://www.fun-coding.org/00_Images/knapsack.png\">"
   ]
  },
  {
   "cell_type": "code",
   "execution_count": 19,
   "metadata": {},
   "outputs": [],
   "source": [
    "data_list = [(10, 10), (15, 12), (20, 10), (25, 8), (30, 5)]"
   ]
  },
  {
   "cell_type": "code",
   "execution_count": 20,
   "metadata": {},
   "outputs": [
    {
     "data": {
      "text/plain": [
       "[(10, 10), (15, 12), (20, 10), (25, 8), (30, 5)]"
      ]
     },
     "execution_count": 20,
     "metadata": {},
     "output_type": "execute_result"
    }
   ],
   "source": [
    "data_list = sorted(data_list, key=lambda x: x[1] / x[0], reverse=True)\n",
    "data_list"
   ]
  },
  {
   "cell_type": "code",
   "execution_count": 21,
   "metadata": {},
   "outputs": [],
   "source": [
    "def get_max_value(data_list, capacity):\n",
    "    data_list = sorted(data_list, key=lambda x: x[1] / x[0], reverse=True)\n",
    "    total_value = 0\n",
    "    details = list()\n",
    "    \n",
    "    for data in data_list:\n",
    "        if capacity - data[0] >= 0:\n",
    "            capacity -= data[0]\n",
    "            total_value += data[1]\n",
    "            details.append([data[0], data[1], 1])\n",
    "        else:\n",
    "            fraction = capacity / data[0]\n",
    "            total_value += data[1] * fraction\n",
    "            details.append([data[0], data[1], fraction])\n",
    "            break\n",
    "    return total_value, details"
   ]
  },
  {
   "cell_type": "code",
   "execution_count": 22,
   "metadata": {},
   "outputs": [
    {
     "data": {
      "text/plain": [
       "(24.5, [[10, 10, 1], [15, 12, 1], [20, 10, 0.25]])"
      ]
     },
     "execution_count": 22,
     "metadata": {},
     "output_type": "execute_result"
    }
   ],
   "source": [
    "get_max_value(data_list, 30)"
   ]
  },
  {
   "cell_type": "markdown",
   "metadata": {},
   "source": [
    "## 3. 그리디 알고리즘 문제에 대한 팁"
   ]
  },
  {
   "cell_type": "markdown",
   "metadata": {},
   "source": [
    "1. 특정 문제를 만났을 때 단순히 현재 상황에서 가장 좋아보이는 것만을 선택해도 문제를 풀 수 있는지를 파악할 수 있어야 한다.\n",
    "2. 기준에 따라 좋은 것을 선택하는 알고리즘이므로, '가장 큰 순서대로', '가장 작은 순서대로'와 같은 기준을 제시해 준다.\n",
    "3. 대체로 이러한 기준들은 정렬 알고리즘을 사용했을 때 만족할 수 있으므로, 그리디 알고리즘 문제는 정렬 알고리즘 문제와 짝을 이루어 출제된다."
   ]
  },
  {
   "cell_type": "markdown",
   "metadata": {},
   "source": [
    "## 4. 문제"
   ]
  },
  {
   "cell_type": "markdown",
   "metadata": {},
   "source": [
    "- https://school.programmers.co.kr/learn/courses/30/lessons/42860\n",
    "- https://school.programmers.co.kr/learn/courses/30/lessons/42883"
   ]
  }
 ],
 "metadata": {
  "kernelspec": {
   "display_name": "Python 3.10.1 64-bit",
   "language": "python",
   "name": "python3"
  },
  "language_info": {
   "codemirror_mode": {
    "name": "ipython",
    "version": 3
   },
   "file_extension": ".py",
   "mimetype": "text/x-python",
   "name": "python",
   "nbconvert_exporter": "python",
   "pygments_lexer": "ipython3",
   "version": "3.10.1"
  },
  "orig_nbformat": 4,
  "vscode": {
   "interpreter": {
    "hash": "aee8b7b246df8f9039afb4144a1f6fd8d2ca17a180786b69acc140d282b71a49"
   }
  }
 },
 "nbformat": 4,
 "nbformat_minor": 2
}
