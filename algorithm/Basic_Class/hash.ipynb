{
 "cells": [
  {
   "cell_type": "markdown",
   "id": "b39c5d33",
   "metadata": {},
   "source": [
    "# 해시\n",
    "\n",
    "\n",
    "**해시(hash)**: 다양한 길이를 가진 데이터를 고정된 길이를 가진 데이터로 매핑 한 값\n",
    " "
   ]
  },
  {
   "cell_type": "code",
   "execution_count": 11,
   "id": "e69ed9d8",
   "metadata": {},
   "outputs": [
    {
     "name": "stdout",
     "output_type": "stream",
     "text": [
      "7814203811720198619\n",
      "-834559912292454750\n",
      "-2134216309647183947\n"
     ]
    }
   ],
   "source": [
    "print(hash('a'))\n",
    "print(hash('abcde'))\n",
    "print(hash('a.'))"
   ]
  },
  {
   "cell_type": "code",
   "execution_count": 12,
   "id": "3793cfcc",
   "metadata": {},
   "outputs": [
    {
     "name": "stdout",
     "output_type": "stream",
     "text": [
      "36bbe50ed96841d10443bcb670d6554f0a34b761be67ec9c4a8ad2c0c44ca42c\n"
     ]
    }
   ],
   "source": [
    "import hashlib\n",
    "data = 'abcde'.encode()\n",
    "hash_object = hashlib.sha256()     # 어떤 해시 알고리즘 쓸건지 지정\n",
    "hash_object.update(data)           # 어떤 값 해싱할 것인지 지정\n",
    "hex_dig = hash_object.hexdigest()  # 16진수로 해시값을 리턴\n",
    "print(hex_dig)"
   ]
  },
  {
   "cell_type": "markdown",
   "id": "7bb53006",
   "metadata": {},
   "source": [
    "- 컴파일러가 사용하는 심볼 테이블, 데이터 베이스, 보안 등 다양한 분야에서 활용된다."
   ]
  },
  {
   "cell_type": "markdown",
   "id": "8893183c",
   "metadata": {},
   "source": [
    "### 자료구조\n",
    "\n",
    "**해시 테이블**: 키(key)에 데이터(value)를 저장하는 데이터 구조 \n",
    "\n",
    "**해시 함수**: 키를 입력으로 받아 연산을 통해 해시 테이블에서 데이터의 위치를 찾을 수 있는 함수\n",
    "\n",
    "**슬롯(slot)**: 한 개의 데이터를 저장할 수 있는 공간 \n",
    "\n",
    "<img width=\"400\" alt=\"해시\" src=\"https://user-images.githubusercontent.com/93698409/179423314-260f77f9-538d-4a4a-9d33-f985ee30dc4f.png\">\n"
   ]
  },
  {
   "cell_type": "code",
   "execution_count": 42,
   "id": "1fde0fe1",
   "metadata": {},
   "outputs": [
    {
     "name": "stdout",
     "output_type": "stream",
     "text": [
      "[0, 0, 0, 0, 0, 0, 0, 0]\n",
      "010-1234-5678\n",
      "[0, 0, 0, '010-1234-5678', 0, 0, 0, 0]\n"
     ]
    }
   ],
   "source": [
    "# 리스트 데이터 초기화\n",
    "hash_table = list([0 for i in range(8)])\n",
    "print(hash_table)\n",
    "\n",
    "# 해시 함수에 키를 넣으면 해시값을 리턴해준다\n",
    "def hash_func(string):\n",
    "    return hash(string) % 8\n",
    "\n",
    "# 값을 넣을 때\n",
    "hash_table[hash_func('Dave')] = '010-1234-5678'\n",
    "print(hash_table[hash_func('Dave')])\n",
    "print(hash_table)"
   ]
  },
  {
   "cell_type": "markdown",
   "id": "65a98216",
   "metadata": {},
   "source": [
    "**용도**: \n",
    "- 검색이 많이 필요한 경우\n",
    "- 저장, 삭제, 읽기가 빈번한 경우 \n",
    "- 캐시 구현\n",
    "\n",
    "**장점**:\n",
    "- 데이터 저장/읽는 속도가 빠르다\n",
    "- key에 대한 데이터가 있는지 중복 확인이 쉬움\n",
    "\n",
    "**단점**:\n",
    "- 저장공간이 많이 사용된다\n",
    "- 여러 키에 해당하는 주소가 동일할 경우 충돌을 해결하기 위한 별도의 자료구조가 필요함\n",
    "\n",
    "**충돌 해결 방안**\n",
    "1. **Chaining 기법**: 해시 테이블의 하나의 위치가 여러 개의 항목을 저장할 수 있도록 해시테이블의 구조를 변경 \n",
    "\n",
    "<img width=\"758\" alt=\"chain\" src=\"https://user-images.githubusercontent.com/93698409/179424589-16b873be-5e70-44a7-9084-051e3955e75c.png\">\n",
    "\n",
    "- C++, 자바, 고 등에서 사용\n",
    "- 문제점: 모든 해시 충돌이 발생했다고 가정할 경우에 O(n)이 된다\n",
    "\n",
    "\n",
    "2. **Open Addressing 기법 (개방 주소법)**: 충돌이 일어난 항목을 해시 테이블의 다른 위치에 저장\n",
    "\n",
    "<img width=\"500\" alt=\"open\" src=\"https://user-images.githubusercontent.com/93698409/179424599-3f9b1503-3e46-4117-b640-e816e58ecdd0.png\">\n",
    "\n",
    "- 루비, 파이썬 등에서 사용\n",
    "- 문제점: 해시 테이블에 저장되는 데이터들이 고르게 분포되지 않고 뭉치는 경향이 있다(클러스터링 - 탐색 시간을 오래 걸리게 하며 전체적으로 해싱 효율을 떨어뜨리는 원인이 된다)\n",
    "\n",
    "3. 해시 함수 재정의 및 해시 테이블 저장공간을 확대 "
   ]
  },
  {
   "cell_type": "markdown",
   "id": "f768a80b",
   "metadata": {},
   "source": [
    "### 파이썬에서의 해시 \n",
    "\n",
    "**딕셔너리**: 내부적으로 해시로 구현되어 있다\n",
    "\n",
    "dict = {\n",
    "    'key1': 'value1',\n",
    "    'key2': 'value2'\n",
    "}\n",
    "- 충돌 시 오픈 어드레싱 방식을 사용하여 해결한다\n",
    "- 연결 리스트를 만들기 위해서는 추가 메모리 할당이 필요하고, 추가 메모리 할당은 상대적으로 느린 작업이기 때문에 택하지 않았다고 한다 \n",
    "\n",
    "**사용하면 좋을 때**\n",
    "\n",
    "1. **리스트 사용하지 못할 때**: 리스트는 숫자 인덱스를 사용하여 원소에 접근하는데 인덱스 값을 숫자가 아닌 다른 값(문자열)로 사용하려고 할 때\n",
    "\n",
    "\n",
    "2. **빠른 접근/탐색이 필요할 때**: 딕셔너리 함수의 시간 복잡도는 대부분 O(1)이다\n",
    "\n",
    "\n",
    "3. **집계가 필요할 때**: 원소의 개수를 세는 문제로 자주 출제, 해시와 collections 모듈의 Counter 클래스를 사용하면 빠르게 문제를 풀 수 있음\n",
    "\n",
    "\n",
    "**시간복잡도**\n",
    "\n",
    "<img width=\"711\" alt=\"시간복잡도\" src=\"https://user-images.githubusercontent.com/93698409/179431403-a6e65d2c-19ec-4652-b3e1-fa7b7be7fac4.png\">\n",
    "\n",
    " \n",
    "**함수**\n",
    "<img width=\"700\" alt=\"functions\" src=\"https://user-images.githubusercontent.com/93698409/179433895-5d2f924c-d835-4b27-b453-e331e684f6a5.png\">"
   ]
  },
  {
   "cell_type": "markdown",
   "id": "d461d83b",
   "metadata": {},
   "source": [
    "**예제**\n",
    "\n",
    "https://leetcode.com/problems/two-sum/\n",
    "\n",
    "리스트 사용: $O(n^2)$의 시간 복잡도"
   ]
  },
  {
   "cell_type": "code",
   "execution_count": 35,
   "id": "f0f8883d",
   "metadata": {},
   "outputs": [
    {
     "name": "stdout",
     "output_type": "stream",
     "text": [
      "1 2\n"
     ]
    }
   ],
   "source": [
    "nums = [3,2,4]\n",
    "target = 6\n",
    "\n",
    "for i in range(1, len(nums)): # O(n)\n",
    "    for j in range(i): # O(n)\n",
    "        if nums[i] + nums[j] == target:\n",
    "            print(j, i)"
   ]
  },
  {
   "cell_type": "markdown",
   "id": "ee9776d3",
   "metadata": {},
   "source": [
    "딕셔너리 사용: $O(n)$의 시간 복잡도"
   ]
  },
  {
   "cell_type": "code",
   "execution_count": 34,
   "id": "ccdeb9b2",
   "metadata": {},
   "outputs": [
    {
     "name": "stdout",
     "output_type": "stream",
     "text": [
      "1 2\n"
     ]
    }
   ],
   "source": [
    "nums = [3,2,4]\n",
    "target = 6\n",
    "\n",
    "dif = {}\n",
    "\n",
    "for i in range(len(nums)): # O(n) \n",
    "    difference = target - nums[i]\n",
    "    if nums[i] in dif.keys(): # O(1) \n",
    "        index = dif[nums[i]]\n",
    "        print(index, i)\n",
    "    else:\n",
    "        dif[difference] = i\n",
    "\n",
    "    #dif[3] = 0, dif[2] = 1, dif[4] = 2 "
   ]
  },
  {
   "cell_type": "markdown",
   "id": "ba0b4ad6",
   "metadata": {},
   "source": [
    "https://leetcode.com/problems/contains-duplicate/"
   ]
  },
  {
   "cell_type": "code",
   "execution_count": 24,
   "id": "84871856",
   "metadata": {},
   "outputs": [
    {
     "name": "stdout",
     "output_type": "stream",
     "text": [
      "True\n"
     ]
    }
   ],
   "source": [
    "chars = ['a','b','c','a']\n",
    "isDuplicate = False\n",
    "dict = {}\n",
    "\n",
    "for c in chars:\n",
    "    if c in dict:\n",
    "        isDuplicate = True\n",
    "    else:\n",
    "        dict[c] = 1\n",
    "        \n",
    "\n",
    "print(isDuplicate)"
   ]
  },
  {
   "cell_type": "markdown",
   "id": "5451404e",
   "metadata": {},
   "source": [
    "**collections.defaultdict 사용**"
   ]
  },
  {
   "cell_type": "code",
   "execution_count": 28,
   "id": "184a3a6d",
   "metadata": {
    "scrolled": true
   },
   "outputs": [
    {
     "ename": "KeyError",
     "evalue": "'a'",
     "output_type": "error",
     "traceback": [
      "\u001b[0;31m---------------------------------------------------------------------------\u001b[0m",
      "\u001b[0;31mKeyError\u001b[0m                                  Traceback (most recent call last)",
      "Input \u001b[0;32mIn [28]\u001b[0m, in \u001b[0;36m<cell line: 2>\u001b[0;34m()\u001b[0m\n\u001b[1;32m      1\u001b[0m \u001b[38;5;28mdict\u001b[39m \u001b[38;5;241m=\u001b[39m {}\n\u001b[0;32m----> 2\u001b[0m \u001b[38;5;28;43mdict\u001b[39;49m\u001b[43m[\u001b[49m\u001b[38;5;124;43m'\u001b[39;49m\u001b[38;5;124;43ma\u001b[39;49m\u001b[38;5;124;43m'\u001b[39;49m\u001b[43m]\u001b[49m\n",
      "\u001b[0;31mKeyError\u001b[0m: 'a'"
     ]
    }
   ],
   "source": [
    "dict = {}\n",
    "dict['a']"
   ]
  },
  {
   "cell_type": "code",
   "execution_count": 43,
   "id": "58d04be8",
   "metadata": {},
   "outputs": [
    {
     "name": "stdout",
     "output_type": "stream",
     "text": [
      "0\n",
      "defaultdict(<class 'int'>, {'a': 0})\n"
     ]
    }
   ],
   "source": [
    "from collections import defaultdict\n",
    "\n",
    "dict = defaultdict(int)\n",
    "print(dict['a']) # 키가 없더라도 에러가 나지 않는다 \n",
    "print(dict)"
   ]
  },
  {
   "cell_type": "code",
   "execution_count": 41,
   "id": "6cf76eb9",
   "metadata": {},
   "outputs": [
    {
     "name": "stdout",
     "output_type": "stream",
     "text": [
      "True\n"
     ]
    }
   ],
   "source": [
    "from collections import defaultdict\n",
    "\n",
    "chars = ['a','b','c','a']\n",
    "isDuplicate = False\n",
    "dict = defaultdict(int)\n",
    "\n",
    "for c in chars:\n",
    "    dict[c] += 1 # 딕셔너리에 키가 없어도 에러가 나지 않고 값이 추가된다\n",
    "    if dict[c] > 1:\n",
    "        isDuplicate = True\n",
    "        \n",
    "\n",
    "print(isDuplicate)"
   ]
  },
  {
   "cell_type": "markdown",
   "id": "faa6aca9",
   "metadata": {},
   "source": [
    "**collections.Counter 사용**"
   ]
  },
  {
   "cell_type": "code",
   "execution_count": 25,
   "id": "88c729f7",
   "metadata": {},
   "outputs": [
    {
     "name": "stdout",
     "output_type": "stream",
     "text": [
      "Counter({'a': 2, 'b': 1, 'c': 1})\n",
      "True\n"
     ]
    }
   ],
   "source": [
    "from collections import Counter\n",
    "\n",
    "chars = ['a','b','c','a']\n",
    "isDuplicate = False\n",
    "counter = Counter(nums)\n",
    "\n",
    "print(counter)\n",
    "\n",
    "for key, value in counter.items():\n",
    "    if value > 1:\n",
    "        isDuplicate = True\n",
    "\n",
    "print(isDuplicate)"
   ]
  },
  {
   "cell_type": "markdown",
   "id": "efef4814",
   "metadata": {},
   "source": [
    "**hash값 이용**"
   ]
  },
  {
   "cell_type": "code",
   "execution_count": 27,
   "id": "74b9fb3f",
   "metadata": {},
   "outputs": [
    {
     "name": "stdout",
     "output_type": "stream",
     "text": [
      "a\n"
     ]
    }
   ],
   "source": [
    "chars1 = ['a','b','c','a']\n",
    "chars2 = ['a','b','c']\n",
    "dict = {}\n",
    "hash_sum = 0\n",
    "\n",
    "for c1 in chars1:\n",
    "    dict[hash(c1)] = c1\n",
    "    hash_sum += hash(c1)\n",
    "    \n",
    "for c2 in chars2:\n",
    "    hash_sum -= hash(c2)\n",
    "\n",
    "print(dict[hash_sum])\n",
    "    "
   ]
  },
  {
   "cell_type": "markdown",
   "id": "c50d2979",
   "metadata": {},
   "source": [
    "**풀어야 할 문제**"
   ]
  },
  {
   "cell_type": "markdown",
   "id": "d3efb987",
   "metadata": {},
   "source": [
    "https://school.programmers.co.kr/learn/courses/30/lessons/42577\n",
    "https://school.programmers.co.kr/learn/courses/30/lessons/42578"
   ]
  }
 ],
 "metadata": {
  "kernelspec": {
   "display_name": "Python 3 (ipykernel)",
   "language": "python",
   "name": "python3"
  },
  "language_info": {
   "codemirror_mode": {
    "name": "ipython",
    "version": 3
   },
   "file_extension": ".py",
   "mimetype": "text/x-python",
   "name": "python",
   "nbconvert_exporter": "python",
   "pygments_lexer": "ipython3",
   "version": "3.9.12"
  }
 },
 "nbformat": 4,
 "nbformat_minor": 5
}
