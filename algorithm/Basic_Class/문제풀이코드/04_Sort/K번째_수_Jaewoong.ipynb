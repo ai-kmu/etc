{
  "nbformat": 4,
  "nbformat_minor": 0,
  "metadata": {
    "colab": {
      "provenance": []
    },
    "kernelspec": {
      "name": "python3",
      "display_name": "Python 3"
    },
    "language_info": {
      "name": "python"
    }
  },
  "cells": [
    {
      "cell_type": "code",
      "execution_count": null,
      "metadata": {
        "id": "PRhULAR8RzQM"
      },
      "outputs": [],
      "source": [
        "def solution(array, commands):\n",
        "    answer = []\n",
        "    \n",
        "    \n",
        "    for i in range(len(commands)):\n",
        "        # commands에서 0번과 1번을 꺼내서 인덱스 슬라이싱을 해줍니다. 단, 시작지점에서 1을 빼주어야 원하는 값을 가져올 수 있습니다.(배열의 특성상 0에서 시작하므로)\n",
        "        new = array[commands[i][0] - 1: commands[i][1]]\n",
        "        # 정렬\n",
        "        new.sort()\n",
        "        # 위와 마찬가지로 1을 빼주어서 실제로 원하는 위치의 값을 가져옵니다.\n",
        "        answer.append(new[commands[i][2] - 1])\n",
        "    \n",
        "    return answer"
      ]
    }
  ]
}