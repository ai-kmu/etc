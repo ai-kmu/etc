{
 "cells": [
  {
   "cell_type": "code",
   "execution_count": null,
   "id": "237e80ef",
   "metadata": {},
   "outputs": [],
   "source": [
    "def solution(brown, yellow):\n",
    "    answer = []\n",
    "    tile = brown + yellow\n",
    "    yel_list = []\n",
    "    # yellow_w * yellow_h = yellow 여야 한다\n",
    "    # 여러가지 yellow_w 와 yellow_h 중에\n",
    "    # yellow_w * 2 + yellow_h * 2 + 4 = brown 에 해당되는 yellow_w와 yellow_h를 찾아보자\n",
    "    for i in range(1, yellow+1):\n",
    "        if yellow % i == 0:\n",
    "            yel_list.append(i)\n",
    "    \n",
    "    # 중앙을 기준으로 왼쪽은 높이 오른쪽은 너비로 정해줍니다.\n",
    "    mid = len(yel_list) // 2\n",
    "    yellow_h = []\n",
    "    yellow_w = []\n",
    "    \n",
    "    # 모든 yellow 세로x가로 의 경우의 수를 구하기위해 모든 세로와 가로의 경우를 추가해주었습니다.\n",
    "    if len(yel_list) % 2 == 0:\n",
    "        for yh in yel_list[0:mid]:\n",
    "            yellow_h.append(yh)\n",
    "        for yw in yel_list[mid:len(yel_list)]:\n",
    "            yellow_w.append(yw)\n",
    "    if len(yel_list) % 2 != 0:\n",
    "        for yh in yel_list[0:mid+1]:\n",
    "            yellow_h.append(yh)\n",
    "        for yw in yel_list[mid:len(yel_list)]:\n",
    "            yellow_w.append(yw)        \n",
    "    \n",
    "    # 마지막으로 yellow_w * 2 + yellow_h * 2 + 4 = brown 에 해당되는 yellow_w와 yellow_h를 찾아보았습니다\n",
    "    # 단, 세로x가로 의 값이 yellow의 값과 일치해야합니다.\n",
    "    for i in range(1, yellow+1):\n",
    "    for i in yellow_h:\n",
    "        for j in yellow_w:\n",
    "            if i * 2 + j * 2 + 4 == brown:\n",
    "                if i*j == yellow:\n",
    "                    \n",
    "                    answer.append(j + 2)\n",
    "                    answer.append(i + 2)\n",
    "    \n",
    "    \n",
    "    return answer"
   ]
  }
 ],
 "metadata": {
  "kernelspec": {
   "display_name": "Python [conda env:anaconda3] *",
   "language": "python",
   "name": "conda-env-anaconda3-py"
  },
  "language_info": {
   "codemirror_mode": {
    "name": "ipython",
    "version": 3
   },
   "file_extension": ".py",
   "mimetype": "text/x-python",
   "name": "python",
   "nbconvert_exporter": "python",
   "pygments_lexer": "ipython3",
   "version": "3.9.12"
  }
 },
 "nbformat": 4,
 "nbformat_minor": 5
}
