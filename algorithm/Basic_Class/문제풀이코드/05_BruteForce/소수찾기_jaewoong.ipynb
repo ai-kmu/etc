{
 "cells": [
  {
   "cell_type": "code",
   "execution_count": null,
   "id": "9d905155",
   "metadata": {},
   "outputs": [],
   "source": [
    "from itertools import permutations\n",
    "import math\n",
    "def solution(numbers):\n",
    "    answer = 0\n",
    "    num_list = []\n",
    "    # i로 나누어 떨어지는 경우에 대한 함수를 만듭니다.\n",
    "    # i로 나누어 떨어지면 소수가 아니므로 False 리턴\n",
    "    def is_prime_num(n):\n",
    "        for i in range(2, n):\n",
    "            if n % i == 0:\n",
    "                return False \n",
    "\n",
    "        return True\n",
    "    \n",
    "    # numbers의 숫자를 문자열로 받아와 조합해줄 준비를 합니다.\n",
    "    len_check = len(numbers)\n",
    "    numbers = list(map(str,numbers))\n",
    "    num_list = list(map(str,numbers))\n",
    "    ans_list = []\n",
    "    \n",
    "    # ans_list에 numlist가 없는 경우 추가해줍니다.\n",
    "    for i in range(len(num_list)):\n",
    "        if num_list[i] not in ans_list:\n",
    "            ans_list.append(num_list[i])\n",
    "        \n",
    "    sum = ''\n",
    "    \n",
    "    # permutations를 통해 모든 조합을 넣어주었습니다.\n",
    "    for length in range(2,len(num_list)+1):\n",
    "        for perm in list(permutations(numbers,length)):\n",
    "            for j in range(len(perm)):\n",
    "                sum = sum + str(perm[j])\n",
    "            if sum not in ans_list:\n",
    "                ans_list.append(sum)\n",
    "            sum = ''\n",
    "    \n",
    "    ans_list = list(map(int,ans_list))\n",
    "    ans_list = list(set(ans_list))\n",
    "    \n",
    "    # 마지막으로 소수의 갯수를 구해주었습니다.\n",
    "    # 모든 조합에 대한 숫자이면서 is_prime_num 을 통과하는지 확인해주었습니다.\n",
    "    for i in range(len(ans_list)):\n",
    "        if ans_list[i] >= 2 and is_prime_num(int(ans_list[i])) == True:\n",
    "            answer = answer + 1\n",
    "    \n",
    "    \n",
    "    return answer"
   ]
  }
 ],
 "metadata": {
  "kernelspec": {
   "display_name": "Python [conda env:anaconda3] *",
   "language": "python",
   "name": "conda-env-anaconda3-py"
  },
  "language_info": {
   "codemirror_mode": {
    "name": "ipython",
    "version": 3
   },
   "file_extension": ".py",
   "mimetype": "text/x-python",
   "name": "python",
   "nbconvert_exporter": "python",
   "pygments_lexer": "ipython3",
   "version": "3.9.12"
  }
 },
 "nbformat": 4,
 "nbformat_minor": 5
}
