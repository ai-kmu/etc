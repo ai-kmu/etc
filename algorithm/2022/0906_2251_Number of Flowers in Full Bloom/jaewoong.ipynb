{
  "nbformat": 4,
  "nbformat_minor": 0,
  "metadata": {
    "colab": {
      "provenance": []
    },
    "kernelspec": {
      "name": "python3",
      "display_name": "Python 3"
    },
    "language_info": {
      "name": "python"
    }
  },
  "cells": [
    {
      "cell_type": "code",
      "execution_count": null,
      "metadata": {
        "id": "4e2yhQL_qrrJ"
      },
      "outputs": [],
      "source": [
        "class Solution:\n",
        "    def fullBloomFlowers(self, flowers: List[List[int]], persons: List[int]) -> List[int]:\n",
        "        start = []\n",
        "        end = []\n",
        "        # persons를 인덱스로 활용\n",
        "        for x,y in flowers:\n",
        "            start.append(x)\n",
        "        \n",
        "        for x,y in flowers:\n",
        "            end.append(y)\n",
        "             \n",
        "        start.sort()\n",
        "        end.sort()\n",
        "        \n",
        "        #print(start)\n",
        "        #print(end)\n",
        "        \n",
        "        # 풀이실패....어째서 이진탐색 문제인지 감이 안잡힙니다....."
      ]
    }
  ]
}