{
  "nbformat": 4,
  "nbformat_minor": 0,
  "metadata": {
    "colab": {
      "name": "Junghyeon.ipynb",
      "provenance": [],
      "collapsed_sections": []
    },
    "kernelspec": {
      "name": "python3",
      "display_name": "Python 3"
    },
    "language_info": {
      "name": "python"
    }
  },
  "cells": [
    {
      "cell_type": "code",
      "execution_count": null,
      "metadata": {
        "id": "qzwVXehYkffs"
      },
      "outputs": [],
      "source": [
        "class Solution:\n",
        "    '''\n",
        "    문제풀이 방법\n",
        "    1. matrix의 첫번째 row를 모두 리턴값인 answer에 저장\n",
        "    2. 이미 저장된 값들을 뺀 새로운 matrix를 생성 후 왼쪽으로 90도 회전\n",
        "    3. matrix가 비어있을때까지 loop를 반복\n",
        "    '''\n",
        "    def spiralOrder(self, matrix: List[List[int]]) -> List[int]:\n",
        "        answer = list()\n",
        "\n",
        "        # matrix가 비어있을때까지 반복\n",
        "        while True:\n",
        "            # matrix의 첫번째 row를 answer에 삽입\n",
        "            for i in range(len(matrix[0][:])):\n",
        "                answer.append(matrix[0][i])\n",
        "\n",
        "            # 이미 삽입된 첫번째 row를 삭제한 새로운 matrix 생성    \n",
        "            matrix = matrix[1:][:]\n",
        "            \n",
        "            # Loop 종료 조건\n",
        "            if len(matrix) == 0:\n",
        "                break\n",
        "\n",
        "            # matrix를 왼쪽으로 90도 회전시키는 알고리즘\n",
        "            row = len(matrix)\n",
        "            col = len(matrix[0])\n",
        "            new_matrix = [[0] * row for _ in range(col)]\n",
        "            for i, rv_i in enumerate(range(col-1, -1, -1)):\n",
        "                for j in range(row):\n",
        "                    new_matrix[rv_i][j] = matrix[j][i]\n",
        "            matrix = new_matrix\n",
        "\n",
        "        return answer"
      ]
    }
  ]
}