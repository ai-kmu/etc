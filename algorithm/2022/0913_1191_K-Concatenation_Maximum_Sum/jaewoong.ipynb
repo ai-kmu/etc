{
  "nbformat": 4,
  "nbformat_minor": 0,
  "metadata": {
    "colab": {
      "provenance": []
    },
    "kernelspec": {
      "name": "python3",
      "display_name": "Python 3"
    },
    "language_info": {
      "name": "python"
    }
  },
  "cells": [
    {
      "cell_type": "code",
      "execution_count": null,
      "metadata": {
        "id": "WHgY2vA4PLd5"
      },
      "outputs": [],
      "source": [
        "# 구현에 실패하여 정답을 보고 공부하였습니다.\n",
        "# 정답을 보고 했기에 리뷰해주지 않아주셔도 됩니다.\n",
        "# 늦게올려 죄송합니다.\n",
        "class Solution:\n",
        "    def kConcatenationMaxSum(self, arr: List[int], k: int) -> int:\n",
        "        '''\n",
        "        문제 풀이\n",
        "        배열내 앞&뒤 에서의 최대부분합을 이용하면 됩니다.\n",
        "        1. 만약 배열의 합이 0보다 큰 경우: 최대한 많이 반복하는게 이득\n",
        "            1) k = 1 인경우: 배열 내의 최대부분 합\n",
        "            2) k = 2 인경우: 배열 내 앞에서부터 최대부분합 + 뒤에서부터 최대부분합\n",
        "            3) 그 외의 경우: 배열 내 앞에서부터 최대부분합 ~ 뒤에서부터 최대부분합(중간 다더해줌)\n",
        "        2. 배열의 합이 0보다 작은 경우\n",
        "            1) 모두 음수면 0(안더해준 경우에 대하여)\n",
        "            2) 배열 내의 최대부분 합\n",
        "        '''\n",
        "    def maxSubarray(self, A):\n",
        "        # A는 k가 적용된 배열\n",
        "        if not A: # 모두 음수면 0\n",
        "            return 0 \n",
        "        curSum = A[0]\n",
        "        maxSum = A[0]\n",
        "        '''\n",
        "        ex1의 경우\n",
        "        모든 더한값이 0보다 크고, k가 2보다 크므로\n",
        "        맨 앞의 배열 ~ 맨 뒤의 배열의 합을 구합니다.('~'는 사이의 전체 합을 더해준다는 의미입니다.)\n",
        "        '''\n",
        "        for i in range(1, len(A)):\n",
        "            curSum = max(A[i], curSum + A[i])\n",
        "            maxSum = max(curSum, maxSum) \n",
        "            print(maxSum)        \n",
        "        return max(maxSum,0)\n",
        "        \n",
        "    def kConcatenationMaxSum(self, arr, k):\n",
        "        arrSum = sum(arr)\n",
        "        MOD = (10**9 + 7) # 정답이 너무 커지는 경우에 대한 예외처리\n",
        "        if k == 1: # 풀이의 k가 1인 경우\n",
        "            return self.maxSubarray(arr)%MOD\n",
        "        if k == 2: # 풀이의 k가 2인경우\n",
        "            return self.maxSubarray(2*arr)%MOD\n",
        "        if k > 2 and arrSum > 0: # 풀이의 그외의 경우\n",
        "            return (self.maxSubarray(arr+arr) + (k-2)*arrSum)%MOD\n",
        "        else: # 배열의 합이 0보다 작은 경우\n",
        "            return self.maxSubarray(2*arr)%MOD\n",
        "        "
      ]
    }
  ]
}