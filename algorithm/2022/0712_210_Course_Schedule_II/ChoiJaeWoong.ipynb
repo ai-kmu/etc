{
 "cells": [
  {
   "cell_type": "markdown",
   "id": "04997207",
   "metadata": {},
   "source": [
    "<h3>Course Schedule<h3>\n",
    "해당 문제는 다음 과목을 배우기 위해 선수과목들을 놓치지 않고 이상적(했던 수업 또 하지 않는)으로 배우는 스케줄을 짜는 프로그램이다.<br><br>\n",
    "    <p style=\"font-size:10px\">예시사진</p>\n",
    "<img src=\"connection_ex.png\" width=\"250px\" height=\"200px\" title=\"px(픽셀) 크기 설정\" alt=\"sk_logo\"></img><br>\n",
    "<p style=\"font-size:15px\">다음의 그림에서 가장 이상적인 방법으로 공부를 진행하는 스케줄을 짜기 위해 깊이우선탐색을 구현하기로 했다.</p>"
   ]
  },
  {
   "cell_type": "markdown",
   "id": "d925e778",
   "metadata": {},
   "source": [
    "<h2>깊이우선탐색을 적용시키는 이유<h2>\n",
    "    <p style=\"font-size:15px\">인접한 노드를 알아야 하는것과 다음 과목을 배우기 위해 선수과목을 알아야 하는것의 원리가 일치한다.</p><br>\n",
    "    <p style=\"font-size:15px\">다음 과목들을 리스트로 배열하면 이산수학 = 0, 프로그래밍원리 = 1, c프로그래밍 = 2, 자료구조 = 3 으로 임의 지정한다.</p><br>\n",
    "    <p style=\"font-size:15px\">\"이산수학\"을 배워야 \"프로그래밍원리\"와 \"c프로그래밍\"을 배울 수 있고, 그 뒤에 자료구조를 배울 수 있는 것이, 노드\"0\" 에서 노드\"1,2\"를 찾아가고, 또 다시 노드\"1,2\"에서 노드\"3\"으로 찾아가는 원리와 일치한다.</p>"
   ]
  },
  {
   "cell_type": "code",
   "execution_count": 9,
   "id": "5f226c92",
   "metadata": {},
   "outputs": [
    {
     "data": {
      "text/plain": [
       "[0, 2, 1, 3]"
      ]
     },
     "execution_count": 9,
     "metadata": {},
     "output_type": "execute_result"
    }
   ],
   "source": [
    "class Solution:\n",
    "    def findOrder(numCourses, prerequisites):\n",
    "        indegrees = [0] * numCourses\n",
    "        graph = [[] for _ in range(numCourses)]\n",
    "        \n",
    "        for v, u in prerequisites:\n",
    "            graph[u].append(v)\n",
    "            indegrees[v] += 1                                                    \n",
    "            \n",
    "        ret = [] \n",
    "        q = []\n",
    "        for node, indegree in enumerate(indegrees):\n",
    "            if indegree == 0:\n",
    "                q.append(node)\n",
    "            \n",
    "        while q:\n",
    "            u = q.pop()\n",
    "            ret.append(u)\n",
    "            for v in graph[u]:\n",
    "                indegrees[v] -= 1\n",
    "                if indegrees[v] == 0:\n",
    "                    q.append(v)\n",
    "        \n",
    "        return ret if len(ret) == numCourses else []\n",
    "    \n",
    "Solution.findOrder(4,[[1,0],[2,0],[3,1],[3,2]])"
   ]
  },
  {
   "cell_type": "markdown",
   "id": "6657dafe",
   "metadata": {},
   "source": [
    "<p style=\"font-size:10px\">다음의 설명부턴 노드=과목임을 명시한다</p>\n",
    "<p style=\"font-size:15px\">numCourses 는 과목의 갯수, 즉 노드의 갯수를 정한다</p>\n",
    "<p style=\"font-size:15px\">graph는 각 인덱스가 연결되는 노드의 번호를 지정해준다. ex) graph[0]은 1번과 2번 노드에 연결되어있다.</p>\n",
    "<p style=\"font-size:15px\">indegree는 진입 차수이다.</p>\n",
    "<p style=\"font-size:15px\">ret 은 공부해야하는 이상적인 순서이다.</p>\n",
    "<p style=\"font-size:15px\">q는 스택을 활용하기 위한 빈스택이다.</p>\n",
    "<p style=\"font-size:15px\">indegrees는 노드 별 차수이다.</p>\n",
    "<p style=\"font-size:15px\">line12 - line14은 탐색 시작 노드를 스택에 삽입한다.</p>"
   ]
  },
  {
   "cell_type": "markdown",
   "id": "2d977e2a",
   "metadata": {},
   "source": [
    "<h4>깊이우선탐색 구현방법<h4>\n",
    "    <p style=\"font-size:15px\">1. 탐색 시작 노드를 스택에 삽입하고 방문처리(0)</p>\n",
    "    <p style=\"font-size:15px\">2. 스택의 최상단 노드에 방문하지 않은 인접노드(1,2)가 있으면 그 인접노드를 스택에 넣고 방문처리</p>\n",
    "    <p style=\"font-size:15px\">3. 방문하지 않은 인접노드가 없으면 스택에서 최상단 노드(2)를 꺼낸다</p>\n",
    "    <p style=\"font-size:15px\">4. 2,3번 과정을 더이상 수행할 수 없을때 까지 반복한다.</p>"
   ]
  },
  {
   "cell_type": "markdown",
   "id": "bfd2f5da",
   "metadata": {},
   "source": [
    "<p style=\"font-size:15px\">u=q.pop 를 통해 후입 선출의 스택구조를 만든다.</p>\n",
    "<p style=\"font-size:15px\">ret.append(u)를 통해, 스택에서 pop된 값을 순서대로 추가한다.</p>\n",
    "    <p style=\"font-size:15px\">for v in graph[u]: 에서 차수를 하나씩 제거해가며 진입차수(indegrees[v])가 0이되는 노드에 대해 q(스택)에 추가한다.단, 이때 graph에 들어간 인덱스별 값에 대한 탐색이 완료된 후에 다음으로 노드로 넘어간다.</p>\n",
    "    "
   ]
  },
  {
   "cell_type": "markdown",
   "id": "1d0318c7",
   "metadata": {},
   "source": [
    "<p style=\"font-size:25px\">세부과정</p>\n",
    "<p style=\"font-size:15px\">1) 시작노드가 0 이므로, 처음 스택에 0이 들어간 뒤, 0이 나가며 ret으로 들어간다.</p>\n",
    "<p style=\"font-size:15px\">ret=[0]</p>\n",
    "    <p style=\"font-size:15px\">2) graph 탐색을 통해 [1,2]에 대하여 다음 탐색을 진행한다.[1,2]가 한 인덱스의 원소이므로, 각각에 대해 스택에 대한 함수가 적용되어, q=[1,2] 로 저장된다.</p>\n",
    "    <p style=\"font-size:15px\">3) 이후 indegrees[3]의 값이 0이 되가는 과정 중, 스택구조의 후입선출 구조로 인해 2가 나온 뒤 1이 나온다.ret=[0,2,1]</p>\n",
    "    <p style=\"font-size:15px\">4) indegrees[3]이 0이 되는 순간,3을 q에 저장하며, 다시 배출한다.ret=[0,2,1,3] </p>\n",
    "    <p style=\"font-size:15px\">5) 마지막으로 ret, 즉 탐색(수업과정)의 길이가 과목의 수와 일치하면 가장 이상적인 수업과정이 된다.</p>"
   ]
  },
  {
   "cell_type": "code",
   "execution_count": null,
   "id": "26715c80",
   "metadata": {},
   "outputs": [],
   "source": []
  }
 ],
 "metadata": {
  "kernelspec": {
   "display_name": "Python 3 (ipykernel)",
   "language": "python",
   "name": "python3"
  },
  "language_info": {
   "codemirror_mode": {
    "name": "ipython",
    "version": 3
   },
   "file_extension": ".py",
   "mimetype": "text/x-python",
   "name": "python",
   "nbconvert_exporter": "python",
   "pygments_lexer": "ipython3",
   "version": "3.9.12"
  }
 },
 "nbformat": 4,
 "nbformat_minor": 5
}
